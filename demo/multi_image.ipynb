{
 "cells": [
  {
   "cell_type": "code",
   "execution_count": null,
   "metadata": {},
   "outputs": [],
   "source": [
    "from multi_image import main_demo, get_paths\n",
    "from interactive_pipe.helper import _private\n",
    "\n",
    "_private.registered_controls_names = (\n",
    "    []\n",
    ")  # this is for notebooks where you re-execute cells everytime.\n",
    "img_list = get_paths()\n",
    "main_demo(img_list, backend=\"nb\")"
   ]
  }
 ],
 "metadata": {
  "kernelspec": {
   "display_name": "Python 3",
   "language": "python",
   "name": "python3"
  },
  "language_info": {
   "codemirror_mode": {
    "name": "ipython",
    "version": 3
   },
   "file_extension": ".py",
   "mimetype": "text/x-python",
   "name": "python",
   "nbconvert_exporter": "python",
   "pygments_lexer": "ipython3",
   "version": "3.10.12"
  }
 },
 "nbformat": 4,
 "nbformat_minor": 2
}
